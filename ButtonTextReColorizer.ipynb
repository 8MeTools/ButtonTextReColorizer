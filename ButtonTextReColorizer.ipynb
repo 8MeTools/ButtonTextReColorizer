{
  "nbformat": 4,
  "nbformat_minor": 0,
  "metadata": {
    "colab": {
      "provenance": [],
      "collapsed_sections": [
        "qh84uaDqHKrj"
      ],
      "authorship_tag": "ABX9TyNtWfNK33CvxEWNVfmbyeml",
      "include_colab_link": true
    },
    "kernelspec": {
      "name": "python3",
      "display_name": "Python 3"
    },
    "language_info": {
      "name": "python"
    }
  },
  "cells": [
    {
      "cell_type": "markdown",
      "metadata": {
        "id": "view-in-github",
        "colab_type": "text"
      },
      "source": [
        "<a href=\"https://colab.research.google.com/github/8MeTools/ButtonTextReColorizer/blob/main/ButtonTextReColorizer.ipynb\" target=\"_parent\"><img src=\"https://colab.research.google.com/assets/colab-badge.svg\" alt=\"Open In Colab\"/></a>"
      ]
    },
    {
      "cell_type": "markdown",
      "source": [
        "# **Googleドライブのマウント**\n",
        "Googleドライブにアクセスして、ファイルの読み書きなどを行うために必要なコードです。実行した後、アクセスを許可してください。\\\n",
        "なお、このノートブックでは指定されたディレクトリ以外のファイル(ご自身の写真やドキュメントデータなど)を読み書きすることはありませんので、ご安心ください。"
      ],
      "metadata": {
        "id": "OChGyty-L4wO"
      }
    },
    {
      "cell_type": "code",
      "source": [
        "# Googleドライブのマウント\n",
        "from google.colab import drive\n",
        "drive.mount('/content/drive')"
      ],
      "metadata": {
        "id": "DfpGStfa7XN6"
      },
      "execution_count": null,
      "outputs": []
    },
    {
      "cell_type": "markdown",
      "source": [
        "# 環境の準備\n",
        "以下のセルを実行すると、必要なツールの導入などを行います。"
      ],
      "metadata": {
        "id": "v-rI8QgaLo9m"
      }
    },
    {
      "cell_type": "markdown",
      "source": [
        "**2025/09/12 17時ごろ(日本時間)にアップデートを行いました。ファイルの変更を行うために以下のコードを実行してください。**"
      ],
      "metadata": {
        "id": "g94kOXzIeXX0"
      }
    },
    {
      "cell_type": "code",
      "source": [
        "# Googleドライブのマイドライブへ移動.\n",
        "%cd /content/drive/MyDrive\n",
        "#マイドライブ直下に8MeToolsフォルダを生成.\n",
        "!mkdir -p ./8MeTools/BTRC\n",
        "#8MeToolsフォルダに移動\n",
        "%cd /content/drive/MyDrive/8MeTools\n",
        "#8MeToolsフォルダ内に必要ファイルをダウンロード.\n",
        "!git clone https://github.com/8MeTools/ButtonTextReColorizer.git\n",
        "#フォルダ名のリネーム.\n",
        "!mv \"/content/drive/MyDrive/8MeTools/ButtonTextReColorizer/\"* \"/content/drive/MyDrive/8MeTools/BTRC/\"\n",
        "#不要データの削除(GitHub上では必要ですが、作業においては必要のないものです)\n",
        "!rm -r \"/content/drive/MyDrive/8MeTools/ButtonTextReColorizer/\"\n",
        "!rm /content/drive/MyDrive/8MeTools/BTRC/EditedBRLAN/.gitkeep\n",
        "!rm /content/drive/MyDrive/8MeTools/BTRC/EditedBRLYT/.gitkeep\n",
        "!rm /content/drive/MyDrive/8MeTools/BTRC/tmp/BRLAN/.gitkeep\n",
        "!rm /content/drive/MyDrive/8MeTools/BTRC/tmp/BRLYT/.gitkeep\n",
        "# ファイル,ディレクトリが存在しているかどうかを確認する\n",
        "%ls /content/drive/MyDrive/8MeTools/BTRC -l"
      ],
      "metadata": {
        "id": "psfnCzO8QXhH"
      },
      "execution_count": null,
      "outputs": []
    },
    {
      "cell_type": "code",
      "execution_count": null,
      "metadata": {
        "id": "gKeQK0hG54UJ"
      },
      "outputs": [],
      "source": [
        "%cd /content\n",
        "!git clone https://github.com/stblr/wuj5.git\n",
        "!pip install colour colr\n",
        "!pip install json5\n",
        "%cd /content/wuj5\n",
        "!ls -l"
      ]
    },
    {
      "cell_type": "code",
      "source": [
        "# これを実行したあと、\"/content/wuj5\"と出ていればOK\n",
        "!pwd"
      ],
      "metadata": {
        "id": "zWhYYAXp7__u"
      },
      "execution_count": null,
      "outputs": []
    },
    {
      "cell_type": "markdown",
      "source": [
        "# **カラーコードの定義**"
      ],
      "metadata": {
        "id": "hq5DX0fvFFwn"
      }
    },
    {
      "cell_type": "code",
      "source": [
        "import re\n",
        "from colr import color\n",
        "\n",
        "# カラーコード判定関数\n",
        "def get_valid_hex_color(prompt):\n",
        "    \"\"\" ユーザーにカラーコードを入力させ、正しい形式 (#RRGGBB) でなければ再入力を求める \"\"\"\n",
        "    hex_pattern = re.compile(r\"^#([A-Fa-f0-9]{6})$\")\n",
        "\n",
        "    while True:\n",
        "        color = input(prompt).strip()\n",
        "        if hex_pattern.match(color):\n",
        "            return color\n",
        "        else:\n",
        "            print(\"無効なカラーコードです。#RRGGBB の形式で入力してください。\")\n",
        "\n",
        "# HTMLカラーコードをRGBに変換する関数\n",
        "def hex_to_rgb(hex_color):\n",
        "    hex_color = hex_color.lstrip(\"#\")\n",
        "    return tuple(int(hex_color[i:i+2], 16) for i in (0, 2, 4))\n",
        "\n",
        "# カラープリセット（デフォルト値）\n",
        "color_presets = {\n",
        "    \"fuchi_pattern2\": {\"black\": \"#ffffff\", \"white\": \"#000000\"},\n",
        "    \"color_base2\": {\"black\": \"#434343\", \"white\": \"#434343\"},\n",
        "    \"black_base2\": {\"black\": \"#434343\", \"white\": \"#434343\"},\n",
        "    \"pikapika\": {\"black\": \"#ffffff\", \"white\": \"#ffffff\"},\n",
        "    \"color_yajirushi\": {\"black\": \"#FFFFFF\", \"white\": \"#C8C8C8\"},\n",
        "    \"ability_graph2\": {\"black\": \"#434343\", \"white\": \"#434343\"},\n",
        "    \"black_pt00\": {\"black\": \"#434343\", \"white\": \"#434343\"},\n",
        "    \"black_pt01\": {\"black\": \"#434343\", \"white\": \"#434343\"},\n",
        "}\n",
        "\n",
        "# ユーザーにカラー設定をさせてプリセットを更新する関数\n",
        "def get_custom_color_and_update(name):\n",
        "    print(f\"\\n=== {name} のカラー設定 ===\")\n",
        "\n",
        "    # 既存のプリセットからデフォルト値を取得\n",
        "    default_black = color_presets[name][\"black\"]\n",
        "    default_white = color_presets[name][\"white\"]\n",
        "    print(f\"デフォルト → Black: {default_black}, White: {default_white}\")\n",
        "\n",
        "    # use_default = input(\"デフォルトのままにしますか？（Y/n）: \").strip().lower()\n",
        "    use_default = \"n\"\n",
        "    if use_default == \"n\":\n",
        "        black = get_valid_hex_color(f\"{name}のBlackColorを入力してください: \")\n",
        "        white = get_valid_hex_color(f\"{name}のWhiteColorを入力してください: \")\n",
        "\n",
        "        # ここで元の辞書を更新\n",
        "        color_presets[name][\"black\"] = black\n",
        "        color_presets[name][\"white\"] = white\n",
        "\n",
        "        # 一部のpane名の場合は、類似するpaneに対しても反映を適用させる\n",
        "        if name == \"color_base2\":\n",
        "            color_presets[\"black_base2\"][\"black\"] = black\n",
        "            color_presets[\"black_base2\"][\"white\"] = white\n",
        "            color_presets[\"pikapika\"][\"black\"] = black\n",
        "            color_presets[\"pikapika\"][\"white\"] = white\n",
        "        elif name == \"ability_graph2\":\n",
        "            color_presets[\"black_pt00\"][\"black\"] = black\n",
        "            color_presets[\"black_pt00\"][\"white\"] = white\n",
        "            color_presets[\"black_pt01\"][\"black\"] = black\n",
        "            color_presets[\"black_pt01\"][\"white\"] = white\n",
        "\n",
        "    return hex_to_rgb(black), hex_to_rgb(white)\n",
        "\n",
        "\n",
        "# 指定されたプリセット名の色情報を表示する関数\n",
        "def print_colors(preset_name):\n",
        "    if preset_name in color_presets:\n",
        "        preset = color_presets[preset_name]\n",
        "        black_color = preset[\"black\"]\n",
        "        white_color = preset[\"white\"]\n",
        "\n",
        "        print(f\"◆{preset_name} のカラー◆\")\n",
        "        print(f\"BlackColor: {black_color} {color('■', fore=black_color)}\")\n",
        "        print(f\"WhiteColor: {white_color} {color('■', fore=white_color)}\")\n",
        "    else:\n",
        "        print(f\"'{preset_name}' というプリセットは存在しません。\")\n",
        "\n",
        "# ユーザーにカラーの変更を確認\n",
        "fuchi_black_rgb, fuchi_white_rgb = get_custom_color_and_update(\"fuchi_pattern2\")\n",
        "base_black_rgb, base_white_rgb = get_custom_color_and_update(\"color_base2\")\n",
        "arrow_black_rgb, arrow_white_rgb = get_custom_color_and_update(\"color_yajirushi\")\n",
        "ability_black_rgb, ability_white_rgb = get_custom_color_and_update(\"ability_graph2\")\n",
        "\n",
        "#カラーのプレビュー\n",
        "print(\"\\n=== カラープレビュー ===\")\n",
        "for colors in color_presets:\n",
        "    print_colors(colors)\n",
        "\n",
        "print(\"\\nカラー設定完了が完了しました。次のセルを実行してください。\")\n"
      ],
      "metadata": {
        "id": "INfqm7PwE3lU"
      },
      "execution_count": null,
      "outputs": []
    },
    {
      "cell_type": "code",
      "source": [
        "# テキストカラーの定義(縁取りカラーのみ変更可)\n",
        "import re\n",
        "from colr import color\n",
        "\n",
        "# RGB配列からHTMLなどに使われる16進数表現へ\n",
        "# credit: https://qiita.com/ty21ky/items/05298d000be9a817d0cc\n",
        "def rgb2hex(r,g,b):\n",
        "    # r , g , b = 0 〜 255 # int型\n",
        "    color = (r, g , b)\n",
        "    html_color = '#%02X%02X%02X' % (color[0],color[1],color[2])\n",
        "    return html_color\n",
        "\n",
        "#ユーザから縁取りカラーを取得する関数\n",
        "#1つ目の引数には名前、2つ目の引数にはデフォルト値のカラーコード\n",
        "def get_outline_color_from_user(state_name, default_hex):\n",
        "    pattern = re.compile(r\"^#([A-Fa-f0-9]{6})$\")\n",
        "    while True:\n",
        "        user_input = input(f\"{state_name} の縁取りカラーコード（例: #00FFAA）を入力（空欄でデフォルト: {default_hex}）: \").strip()\n",
        "        if user_input == \"\":\n",
        "            user_input = default_hex\n",
        "        if pattern.match(user_input):\n",
        "            rgb = tuple(int(user_input[i:i+2], 16) for i in (1, 3, 5))\n",
        "            # print(f\"→ {state_name} outline color: {rgb}\")\n",
        "            return rgb\n",
        "        else:\n",
        "            print(\"無効な形式です。#RRGGBB の形式で入力してください。\")\n",
        "\n",
        "# テキストカラーの説明\n",
        "print(\"ここでは文字色の縁取りカラーを指定できます。なお、内側のカラーはすでに定義済みです。\")\n",
        "print(\"freeはカーソル非選択時のテキストカラーです。暗めの色がオススメです。\")\n",
        "print(\"selectはカーソル選択時のテキストカラーです。明るめの色がオススメです。\")\n",
        "print(\"2つの値を入力値を表示した後で、変更したカラーのプレビューが表示されます。\\n\")\n",
        "\n",
        "# デフォルト文字色\n",
        "default_free_text = (220, 220, 220)\n",
        "default_select_text = (255, 255, 255)\n",
        "\n",
        "# ユーザー入力：縁取り色のみ\n",
        "free_outline = get_outline_color_from_user(\"free\", \"#282828\")\n",
        "select_outline = get_outline_color_from_user(\"select\", \"#787878\")\n",
        "\n",
        "# カラー定義（スクリプト本体で使われる変数）\n",
        "text_free_colors = (default_free_text, free_outline)\n",
        "text_select_colors = (default_select_text, select_outline)\n",
        "\n",
        "# common_w103_wifi_menu.brlyt用のテキストカラー定義(それ以外はBRLANで変更)\n",
        "text_black_rgb, text_white_rgb = (text_select_colors[1], text_select_colors[0])\n",
        "\n",
        "#カラーのプレビュー\n",
        "#タプルを関数の引数として展開するために、*演算子を使用\n",
        "print(\"\\n=== カラープレビュー ===\")\n",
        "print(f\"free(非選択時): {text_free_colors[1]} {color('■', fore=rgb2hex(*text_free_colors[1]))}\")\n",
        "print(f\"select(選択時): {text_select_colors[1]} {color('■', fore=rgb2hex(*text_select_colors[1]))}\")"
      ],
      "metadata": {
        "id": "4l9O6XC65yvl"
      },
      "execution_count": null,
      "outputs": []
    },
    {
      "cell_type": "markdown",
      "source": [
        "# **JSON5(レイアウトファイル)の編集**\n",
        "画面左上のメニューバーから\"**ランタイム**\"を選択し、\"**現在のセルとその下のセルを実行**\"をクリックしてください。\\\n",
        "その後は自動でセルを実行してくれます。\\\n",
        "<img src=\"https://drive.google.com/uc?export=view&id=1jwwFOCjsb4ip9j8MqtgL2a3zUT1kjaS7\" width = 50%>"
      ],
      "metadata": {
        "id": "RjrIuv0IFJ_l"
      }
    },
    {
      "cell_type": "code",
      "source": [
        "# オリジナルファイルをtmpフォルダに移動\n",
        "!cp -r \"/content/drive/MyDrive/8MeTools/BTRC/Assets/BRLYT/\"* \"/content/drive/MyDrive/8MeTools/BTRC/tmp/BRLYT/\""
      ],
      "metadata": {
        "id": "BXSdOCXeYw-F"
      },
      "execution_count": 7,
      "outputs": []
    },
    {
      "cell_type": "code",
      "source": [
        "import json5\n",
        "import os\n",
        "import re\n",
        "from tqdm.notebook import tqdm\n",
        "\n",
        "# JSON5ファイルが格納されているディレクトリ\n",
        "json5_dir = \"/content/drive/MyDrive/8MeTools/BTRC/tmp/BRLYT\"\n",
        "\n",
        "# JSON5ファイルを再帰的に取得\n",
        "json5_files = []\n",
        "for root, _, files in os.walk(json5_dir):\n",
        "    for f in files:\n",
        "        if f.endswith(\".json5\"):\n",
        "            json5_files.append(os.path.join(root, f))\n",
        "\n",
        "if not json5_files:\n",
        "    tqdm.write(\"指定されたディレクトリにJSON5ファイルが存在しません。\")\n",
        "else:\n",
        "    for json5_file in tqdm(json5_files, desc=\"Processing files\"):\n",
        "        file_path = json5_file\n",
        "\n",
        "        with open(file_path, \"r\", encoding=\"utf-8\") as file:\n",
        "            json_text = file.read()\n",
        "\n",
        "        # \"name\": 対象のブロックを検索\n",
        "        pattern = re.compile(\n",
        "            r'(\\s*\"name\": \"(fuchi_pattern2|color_base2|black_base2|pikapika|color_yajirushi|ability_graph2|black_pt00|black_pt01|text|chara02)\".*?(\"tev color 1 a\": \\d+))',\n",
        "            re.DOTALL\n",
        "        )\n",
        "        matches = list(re.finditer(pattern, json_text))\n",
        "\n",
        "        if not matches:\n",
        "            tqdm.write(f\"{json5_file} に編集対象のTexture Paneが含まれていないため、編集を行いません。\")\n",
        "            continue\n",
        "\n",
        "        # JSONテキストを変更\n",
        "        for match in reversed(matches):  # **後ろから置換**\n",
        "            block_text = match.group(1)\n",
        "            block_name = match.group(2)\n",
        "\n",
        "            # 対応するカラーを取得\n",
        "            color_map = {\n",
        "                \"fuchi_pattern2\": (fuchi_black_rgb, fuchi_white_rgb),\n",
        "                \"color_base2\": (base_black_rgb, base_white_rgb),\n",
        "                \"black_base2\": (base_black_rgb, base_white_rgb),\n",
        "                \"pikapika\": (base_black_rgb, base_white_rgb),\n",
        "                \"color_yajirushi\": (arrow_black_rgb, arrow_white_rgb),\n",
        "                \"ability_graph2\": (ability_black_rgb, ability_white_rgb),\n",
        "                \"black_pt00\": (ability_black_rgb, ability_white_rgb),\n",
        "                \"black_pt01\": (ability_black_rgb, ability_white_rgb),\n",
        "                \"text\": (text_black_rgb, text_white_rgb),\n",
        "                \"chara02\": (arrow_white_rgb, arrow_black_rgb), # ここはあえて逆にしている.矢印のカラー割り当てをオリジナルに準拠するため.\n",
        "            }\n",
        "\n",
        "            black_rgb, white_rgb = color_map.get(block_name, ((0, 0, 0), (255, 255, 255)))\n",
        "\n",
        "            # \"tev color 0\" のRGB値を変更\n",
        "            block_text = re.sub(r'\"tev color 0 r\": \\d+(,?)', f'\"tev color 0 r\": {black_rgb[0]}\\\\1', block_text)\n",
        "            block_text = re.sub(r'\"tev color 0 g\": \\d+(,?)', f'\"tev color 0 g\": {black_rgb[1]}\\\\1', block_text)\n",
        "            block_text = re.sub(r'\"tev color 0 b\": \\d+(,?)', f'\"tev color 0 b\": {black_rgb[2]}\\\\1', block_text)\n",
        "\n",
        "            # \"tev color 1\" のRGB値を変更\n",
        "            block_text = re.sub(r'\"tev color 1 r\": \\d+(,?)', f'\"tev color 1 r\": {white_rgb[0]}\\\\1', block_text)\n",
        "            block_text = re.sub(r'\"tev color 1 g\": \\d+(,?)', f'\"tev color 1 g\": {white_rgb[1]}\\\\1', block_text)\n",
        "            block_text = re.sub(r'\"tev color 1 b\": \\d+(,?)', f'\"tev color 1 b\": {white_rgb[2]}\\\\1', block_text)\n",
        "\n",
        "            # **変更を適用**\n",
        "            json_text = json_text[:match.start()] + block_text + json_text[match.end():]\n",
        "\n",
        "        # JSON5ファイルを上書き保存\n",
        "        with open(file_path, \"w\", encoding=\"utf-8\") as file:\n",
        "            file.write(json_text)\n",
        "\n",
        "        relative_path = os.path.relpath(json5_file, json5_dir)\n",
        "        # tqdm.write(f\"{relative_path} が変更されました。\")\n"
      ],
      "metadata": {
        "id": "deAWlc-vYw-F"
      },
      "execution_count": null,
      "outputs": []
    },
    {
      "cell_type": "markdown",
      "source": [
        "### JSON5をBRLYTファイルに変換するコード"
      ],
      "metadata": {
        "id": "4L5E2ja8TwO3"
      }
    },
    {
      "cell_type": "code",
      "source": [
        "import os\n",
        "import subprocess\n",
        "from tqdm.notebook import tqdm\n",
        "\n",
        "# JSON5ファイルが格納されている親フォルダ\n",
        "folder_path = \"/content/drive/MyDrive/8MeTools/BTRC/tmp/BRLYT\"\n",
        "\n",
        "# フォルダ内のすべてのJSON5ファイルを再帰的に取得\n",
        "json5_files = []\n",
        "for root, _, files in os.walk(folder_path):\n",
        "    for f in files:\n",
        "        if f.endswith(\".json5\"):\n",
        "            json5_files.append(os.path.join(root, f))\n",
        "\n",
        "if not json5_files:\n",
        "    tqdm.write(\"JSON5フォルダ内に処理対象のファイルがありません。\")\n",
        "else:\n",
        "    tqdm.write(\"処理対象のファイル:\")\n",
        "    for file_path in json5_files:\n",
        "        relative_path = os.path.relpath(file_path, folder_path)\n",
        "        tqdm.write(relative_path)\n",
        "    tqdm.write(\"\\n\")\n",
        "\n",
        "    for file_path in tqdm(json5_files, desc=\"Processing files\"):\n",
        "        # wuj5.py を実行\n",
        "        # relative_path = os.path.relpath(file_path, folder_path)\n",
        "        command = [\"python\", \"wuj5.py\", \"encode\", file_path]\n",
        "        # print(f\"実行中: {' '.join(command).replace(folder_path, '.')}\") # 簡略化して表示\n",
        "\n",
        "        try:\n",
        "            result = subprocess.run(command, capture_output=True, text=True, check=True)\n",
        "        except subprocess.CalledProcessError as e:\n",
        "            # エラーが発生した場合のみ詳細情報を出力\n",
        "            tqdm.write(f\"エラー発生: {os.path.basename(file_path)}\")\n",
        "            tqdm.write(f\"コマンド: {' '.join(command)}\")\n",
        "            tqdm.write(f\"エラー出力: {e.stderr}\")\n",
        "\n",
        "    print(\"\\nすべてのJSON5ファイルをエンコードしました！\")"
      ],
      "metadata": {
        "id": "TeV9U4psYw-G",
        "collapsed": true
      },
      "execution_count": null,
      "outputs": []
    },
    {
      "cell_type": "code",
      "source": [
        "#json5を削除\n",
        "import os\n",
        "\n",
        "# JSON5ファイルが格納されている親フォルダ\n",
        "folder_path = \"/content/drive/MyDrive/8MeTools/BTRC/tmp/BRLYT\"\n",
        "\n",
        "# フォルダ内のすべてのJSON5ファイルを再帰的に取得\n",
        "json5_files = []\n",
        "for root, _, files in os.walk(folder_path):\n",
        "    for f in files:\n",
        "        if f.endswith(\".json5\"):\n",
        "            json5_files.append(os.path.join(root, f))\n",
        "\n",
        "if not json5_files:\n",
        "    print(\"削除対象のJSON5ファイルがありません。\")\n",
        "else:\n",
        "    for json5_file in json5_files:\n",
        "        file_path = os.path.join(folder_path, json5_file)\n",
        "        os.remove(file_path)\n",
        "        # デバッグ\n",
        "        # print(f\"削除完了: {json5_file}\")\n",
        "    print(\"すべてのJSON5ファイルを削除しました。\")"
      ],
      "metadata": {
        "id": "n6oNpfRVYw-G",
        "collapsed": true
      },
      "execution_count": null,
      "outputs": []
    },
    {
      "cell_type": "code",
      "source": [
        "#一時フォルダから完成フォルダに移動(BRLYT)\n",
        "!mv \"/content/drive/MyDrive/8MeTools/BTRC/tmp/BRLYT/\"* \"/content/drive/MyDrive/8MeTools/BTRC/EditedBRLYT/\"\n",
        "print(\"BRLYTファイルへの変換が全て完了しました。Googleドライブから確認してください。\")"
      ],
      "metadata": {
        "id": "J3R9a4_EmVZJ"
      },
      "execution_count": null,
      "outputs": []
    },
    {
      "cell_type": "markdown",
      "source": [
        "### BRLAN編\n"
      ],
      "metadata": {
        "id": "c9USNj9BZX6o"
      }
    },
    {
      "cell_type": "code",
      "source": [
        "# JSON5ファイルをtmpフォルダに移動\n",
        "!cp -r \"/content/drive/MyDrive/8MeTools/BTRC/Assets/BRLAN/\"* \"/content/drive/MyDrive/8MeTools/BTRC/tmp/BRLAN/\""
      ],
      "metadata": {
        "id": "vunYKvqHZhi6"
      },
      "execution_count": 12,
      "outputs": []
    },
    {
      "cell_type": "code",
      "source": [
        "import json5\n",
        "import os\n",
        "from tqdm.notebook import tqdm\n",
        "\n",
        "json5_dir = \"/content/drive/MyDrive/8MeTools/BTRC/tmp/BRLAN\"\n",
        "json5_files = []\n",
        "for root, _, files in os.walk(json5_dir):\n",
        "    for f in files:\n",
        "        if f.endswith(\".json5\"):\n",
        "            json5_files.append(os.path.join(root, f))\n",
        "\n",
        "# カラー更新関数\n",
        "def update_tev_colors(data, start_outline, start_text, end_outline, end_text):\n",
        "    for section in data.get(\"sections\", []):\n",
        "        for content in section.get(\"contents\", []):\n",
        "            if content.get(\"name\") != \"text\":\n",
        "                continue\n",
        "            for animation in content.get(\"animations\", []):\n",
        "                for target in animation.get(\"targets\", []):\n",
        "                    kind = target.get(\"kind\", \"\")\n",
        "                    if not kind.startswith(\"tev color\"):\n",
        "                        continue\n",
        "\n",
        "                    color_type = kind.split()[2]  # '0' or '1'\n",
        "                    component = kind.split()[-1]  # 'r', 'g', 'b'\n",
        "\n",
        "                    for key in target.get(\"keys\", []):\n",
        "                        # 遷移なし（同じ色で固定）\n",
        "                        if start_outline == end_outline and start_text == end_text:\n",
        "                            color = start_text if color_type == \"0\" else start_outline\n",
        "                        else:\n",
        "                            # 遷移あり（frame に応じて始点か終点の色を選ぶ）\n",
        "                            color = start_text if (color_type == \"0\" and key[\"frame\"] == 0.0) else \\\n",
        "                                    end_text if (color_type == \"0\" and key[\"frame\"] != 0.0) else \\\n",
        "                                    start_outline if (color_type == \"1\" and key[\"frame\"] == 0.0) else \\\n",
        "                                    end_outline\n",
        "\n",
        "                        if component == \"r\":\n",
        "                            key[\"value\"] = color[0]\n",
        "                        elif component == \"g\":\n",
        "                            key[\"value\"] = color[1]\n",
        "                        elif component == \"b\":\n",
        "                            key[\"value\"] = color[2]\n",
        "    return data\n",
        "\n",
        "# 実行\n",
        "if not json5_files:\n",
        "    tqdm.write(\"指定されたディレクトリにJSON5ファイルが存在しません。\")\n",
        "else:\n",
        "    for json5_file in tqdm(json5_files, desc=\"Processing files\"):\n",
        "        relative_path = os.path.relpath(json5_file, json5_dir)\n",
        "        with open(json5_file, \"r\", encoding=\"utf-8\") as file:\n",
        "            try:\n",
        "                data = json5.load(file)\n",
        "            except Exception as e:\n",
        "                tqdm.write(f\"{relative_path}: 読み込みエラー - {e}\")\n",
        "                continue\n",
        "\n",
        "        filename = os.path.basename(json5_file).lower()\n",
        "\n",
        "        # ファイル名ルールによるカラー適用順\n",
        "        if \"free_to_select\" in filename:\n",
        "            start_outline, start_text = text_free_colors\n",
        "            end_outline, end_text = text_select_colors\n",
        "        elif \"select_to_free\" in filename:\n",
        "            start_outline, start_text = text_select_colors\n",
        "            end_outline, end_text = text_free_colors\n",
        "        elif \"free\" in filename and \"select\" not in filename:\n",
        "            start_outline = end_outline = text_free_colors[0]\n",
        "            start_text = end_text = text_free_colors[1]\n",
        "        elif \"select\" in filename and \"free\" not in filename:\n",
        "            start_outline = end_outline = text_select_colors[0]\n",
        "            start_text = end_text = text_select_colors[1]\n",
        "        elif \"stop\" in filename:\n",
        "            start_outline = end_outline = text_select_colors[0]\n",
        "            start_text = end_text = text_select_colors[1]\n",
        "        elif \"common_w098_wifi_menu_text\" in filename:\n",
        "            start_outline = end_outline = text_select_colors[0]\n",
        "            start_text = end_text = text_select_colors[1]\n",
        "        elif \"common_w010_cup_fuchi_off\" or \"common_w010_cup_fuchi_on_to_off\" in filename:\n",
        "            start_outline = end_outline = text_select_colors[0]\n",
        "            start_text = end_text = text_select_colors[1]\n",
        "        elif \"fuchi_check_loop\" in filename:\n",
        "            continue\n",
        "        else:\n",
        "            tqdm.write(f\"{json5_file}: ファイル名から適用カラーが判断できません。スキップします。\")\n",
        "            continue\n",
        "\n",
        "        # 更新\n",
        "        updated_data = update_tev_colors(data, start_outline, start_text, end_outline, end_text)\n",
        "\n",
        "        # 保存\n",
        "        with open(json5_file, \"w\", encoding=\"utf-8\") as file:\n",
        "            json5.dump(updated_data, file, indent=2)\n",
        "\n",
        "        relative_path = os.path.relpath(json5_file, json5_dir)\n",
        "        # tqdm.write(f\"{relative_path} の編集が完了しました。\")\n"
      ],
      "metadata": {
        "id": "HPTYSUV0ebJI"
      },
      "execution_count": null,
      "outputs": []
    },
    {
      "cell_type": "markdown",
      "source": [
        "### JSON5をBRLANに変換するコード"
      ],
      "metadata": {
        "id": "kJQwx5TRUe1n"
      }
    },
    {
      "cell_type": "code",
      "source": [
        "# json5をBRLANに変換\n",
        "import os\n",
        "import subprocess\n",
        "from tqdm.notebook import tqdm\n",
        "\n",
        "# JSON5ファイルが格納されている親フォルダ\n",
        "folder_path = \"/content/drive/MyDrive/8MeTools/BTRC/tmp/BRLAN\"\n",
        "\n",
        "# フォルダ内のすべてのJSON5ファイルを再帰的に取得\n",
        "json5_files = []\n",
        "for root, _, files in os.walk(folder_path):\n",
        "    for f in files:\n",
        "        if f.endswith(\".json5\"):\n",
        "            json5_files.append(os.path.join(root, f))\n",
        "\n",
        "if not json5_files:\n",
        "    tqdm.write(\"JSON5フォルダ内に処理対象のファイルがありません。\")\n",
        "else:\n",
        "    tqdm.write(\"処理対象のファイル:\")\n",
        "    for file_path in json5_files:\n",
        "        relative_path = os.path.relpath(file_path, folder_path)\n",
        "        tqdm.write(relative_path)\n",
        "    tqdm.write(\"\\n\")\n",
        "\n",
        "    for file_path in tqdm(json5_files, desc=\"Processing files\"):\n",
        "        # wuj5.py を実行\n",
        "        # relative_path = os.path.relpath(file_path, folder_path)\n",
        "        command = [\"python\", \"wuj5.py\", \"encode\", file_path]\n",
        "        # tqdm.write(f\"実行中: {' '.join(command).replace(folder_path, '.')}\") # 簡略化して表示\n",
        "\n",
        "        try:\n",
        "            result = subprocess.run(command, capture_output=True, text=True, check=True)\n",
        "        except subprocess.CalledProcessError as e:\n",
        "            # エラーが発生した場合のみ詳細情報を出力\n",
        "            tqdm.write(f\"エラー発生: {os.path.basename(file_path)}\")\n",
        "            tqdm.write(f\"コマンド: {' '.join(command)}\")\n",
        "            tqdm.write(f\"エラー出力: {e.stderr}\")\n",
        "\n",
        "    tqdm.write(\"\\nすべてのJSON5ファイルをエンコードしました！\")"
      ],
      "metadata": {
        "id": "RN-mXnX7ebFV"
      },
      "execution_count": null,
      "outputs": []
    },
    {
      "cell_type": "code",
      "source": [
        "#json5を削除\n",
        "import os\n",
        "\n",
        "# JSON5ファイルが格納されている親フォルダ\n",
        "folder_path = \"/content/drive/MyDrive/8MeTools/BTRC/tmp/BRLAN\"\n",
        "\n",
        "# フォルダ内のすべてのJSON5ファイルを再帰的に取得\n",
        "json5_files = []\n",
        "for root, _, files in os.walk(folder_path):\n",
        "    for f in files:\n",
        "        if f.endswith(\".json5\"):\n",
        "            json5_files.append(os.path.join(root, f))\n",
        "\n",
        "if not json5_files:\n",
        "    print(\"削除対象のJSON5ファイルがありません。\")\n",
        "else:\n",
        "    for json5_file in json5_files:\n",
        "        file_path = os.path.join(folder_path, json5_file)\n",
        "        os.remove(file_path)\n",
        "        # デバッグ用\n",
        "        # print(f\"削除完了: {json5_file}\")\n",
        "    print(\"すべてのJSON5ファイルを削除しました。\")"
      ],
      "metadata": {
        "id": "CUOK45sPea1w"
      },
      "execution_count": null,
      "outputs": []
    },
    {
      "cell_type": "code",
      "source": [
        "#一時フォルダから完成フォルダに移動\n",
        "!mv \"/content/drive/MyDrive/8MeTools/BTRC/tmp/BRLAN/\"* \"/content/drive/MyDrive/8MeTools/BTRC/EditedBRLAN/\"\n",
        "print(\"BRLANファイルへの変換が全て完了しました。Googleドライブから確認してください。\")"
      ],
      "metadata": {
        "id": "SfQzbzqJYw-G"
      },
      "execution_count": null,
      "outputs": []
    },
    {
      "cell_type": "markdown",
      "source": [
        "Googleドライブを開いてファイルをダウンロードしてください。お疲れ様でした。"
      ],
      "metadata": {
        "id": "KVf0Wo0ONMo3"
      }
    }
  ]
}
